{
 "cells": [
  {
   "cell_type": "code",
   "execution_count": 1,
   "metadata": {
    "execution": {
     "iopub.execute_input": "2022-10-30T02:12:54.220496Z",
     "iopub.status.busy": "2022-10-30T02:12:54.219401Z",
     "iopub.status.idle": "2022-10-30T02:12:54.232199Z",
     "shell.execute_reply": "2022-10-30T02:12:54.231044Z",
     "shell.execute_reply.started": "2022-10-30T02:12:54.220444Z"
    }
   },
   "outputs": [],
   "source": [
    "import numpy as np\n",
    "import pandas as pd\n",
    "import matplotlib.pyplot as plt\n",
    "import seaborn as sns\n",
    "\n",
    "from sklearn.linear_model import LogisticRegression\n",
    "from sklearn.ensemble import RandomForestClassifier, GradientBoostingClassifier\n",
    "from sklearn.neighbors import KNeighborsClassifier\n",
    "from sklearn.svm import SVC\n",
    "import xgboost as xgb\n",
    "\n",
    "import sklearn.metrics as metric\n",
    "from sklearn.model_selection import StratifiedKFold\n",
    "\n",
    "import warnings\n",
    "warnings.filterwarnings('ignore')"
   ]
  },
  {
   "cell_type": "code",
   "execution_count": 2,
   "metadata": {
    "execution": {
     "iopub.execute_input": "2022-10-30T02:12:54.234636Z",
     "iopub.status.busy": "2022-10-30T02:12:54.233730Z",
     "iopub.status.idle": "2022-10-30T02:12:54.262604Z",
     "shell.execute_reply": "2022-10-30T02:12:54.261197Z",
     "shell.execute_reply.started": "2022-10-30T02:12:54.234551Z"
    }
   },
   "outputs": [
    {
     "data": {
      "text/html": [
       "<div>\n",
       "<style scoped>\n",
       "    .dataframe tbody tr th:only-of-type {\n",
       "        vertical-align: middle;\n",
       "    }\n",
       "\n",
       "    .dataframe tbody tr th {\n",
       "        vertical-align: top;\n",
       "    }\n",
       "\n",
       "    .dataframe thead th {\n",
       "        text-align: right;\n",
       "    }\n",
       "</style>\n",
       "<table border=\"1\" class=\"dataframe\">\n",
       "  <thead>\n",
       "    <tr style=\"text-align: right;\">\n",
       "      <th></th>\n",
       "      <th>variance</th>\n",
       "      <th>skewness</th>\n",
       "      <th>curtosis</th>\n",
       "      <th>entropy</th>\n",
       "      <th>class</th>\n",
       "    </tr>\n",
       "  </thead>\n",
       "  <tbody>\n",
       "    <tr>\n",
       "      <th>0</th>\n",
       "      <td>3.62160</td>\n",
       "      <td>8.66610</td>\n",
       "      <td>-2.8073</td>\n",
       "      <td>-0.44699</td>\n",
       "      <td>0</td>\n",
       "    </tr>\n",
       "    <tr>\n",
       "      <th>1</th>\n",
       "      <td>4.54590</td>\n",
       "      <td>8.16740</td>\n",
       "      <td>-2.4586</td>\n",
       "      <td>-1.46210</td>\n",
       "      <td>0</td>\n",
       "    </tr>\n",
       "    <tr>\n",
       "      <th>2</th>\n",
       "      <td>3.86600</td>\n",
       "      <td>-2.63830</td>\n",
       "      <td>1.9242</td>\n",
       "      <td>0.10645</td>\n",
       "      <td>0</td>\n",
       "    </tr>\n",
       "    <tr>\n",
       "      <th>3</th>\n",
       "      <td>3.45660</td>\n",
       "      <td>9.52280</td>\n",
       "      <td>-4.0112</td>\n",
       "      <td>-3.59440</td>\n",
       "      <td>0</td>\n",
       "    </tr>\n",
       "    <tr>\n",
       "      <th>4</th>\n",
       "      <td>0.32924</td>\n",
       "      <td>-4.45520</td>\n",
       "      <td>4.5718</td>\n",
       "      <td>-0.98880</td>\n",
       "      <td>0</td>\n",
       "    </tr>\n",
       "    <tr>\n",
       "      <th>...</th>\n",
       "      <td>...</td>\n",
       "      <td>...</td>\n",
       "      <td>...</td>\n",
       "      <td>...</td>\n",
       "      <td>...</td>\n",
       "    </tr>\n",
       "    <tr>\n",
       "      <th>1367</th>\n",
       "      <td>0.40614</td>\n",
       "      <td>1.34920</td>\n",
       "      <td>-1.4501</td>\n",
       "      <td>-0.55949</td>\n",
       "      <td>1</td>\n",
       "    </tr>\n",
       "    <tr>\n",
       "      <th>1368</th>\n",
       "      <td>-1.38870</td>\n",
       "      <td>-4.87730</td>\n",
       "      <td>6.4774</td>\n",
       "      <td>0.34179</td>\n",
       "      <td>1</td>\n",
       "    </tr>\n",
       "    <tr>\n",
       "      <th>1369</th>\n",
       "      <td>-3.75030</td>\n",
       "      <td>-13.45860</td>\n",
       "      <td>17.5932</td>\n",
       "      <td>-2.77710</td>\n",
       "      <td>1</td>\n",
       "    </tr>\n",
       "    <tr>\n",
       "      <th>1370</th>\n",
       "      <td>-3.56370</td>\n",
       "      <td>-8.38270</td>\n",
       "      <td>12.3930</td>\n",
       "      <td>-1.28230</td>\n",
       "      <td>1</td>\n",
       "    </tr>\n",
       "    <tr>\n",
       "      <th>1371</th>\n",
       "      <td>-2.54190</td>\n",
       "      <td>-0.65804</td>\n",
       "      <td>2.6842</td>\n",
       "      <td>1.19520</td>\n",
       "      <td>1</td>\n",
       "    </tr>\n",
       "  </tbody>\n",
       "</table>\n",
       "<p>1372 rows × 5 columns</p>\n",
       "</div>"
      ],
      "text/plain": [
       "      variance  skewness  curtosis  entropy  class\n",
       "0      3.62160   8.66610   -2.8073 -0.44699      0\n",
       "1      4.54590   8.16740   -2.4586 -1.46210      0\n",
       "2      3.86600  -2.63830    1.9242  0.10645      0\n",
       "3      3.45660   9.52280   -4.0112 -3.59440      0\n",
       "4      0.32924  -4.45520    4.5718 -0.98880      0\n",
       "...        ...       ...       ...      ...    ...\n",
       "1367   0.40614   1.34920   -1.4501 -0.55949      1\n",
       "1368  -1.38870  -4.87730    6.4774  0.34179      1\n",
       "1369  -3.75030 -13.45860   17.5932 -2.77710      1\n",
       "1370  -3.56370  -8.38270   12.3930 -1.28230      1\n",
       "1371  -2.54190  -0.65804    2.6842  1.19520      1\n",
       "\n",
       "[1372 rows x 5 columns]"
      ]
     },
     "execution_count": 2,
     "metadata": {},
     "output_type": "execute_result"
    }
   ],
   "source": [
    "# Load the dataset\n",
    "df = pd.read_csv('D:\\DS Projects\\Bank Note Prediction\\BankNote_Authentication.csv')\n",
    "df"
   ]
  },
  {
   "cell_type": "code",
   "execution_count": 3,
   "metadata": {
    "execution": {
     "iopub.execute_input": "2022-10-30T02:12:54.265945Z",
     "iopub.status.busy": "2022-10-30T02:12:54.265589Z",
     "iopub.status.idle": "2022-10-30T02:12:54.278680Z",
     "shell.execute_reply": "2022-10-30T02:12:54.277430Z",
     "shell.execute_reply.started": "2022-10-30T02:12:54.265914Z"
    }
   },
   "outputs": [
    {
     "name": "stdout",
     "output_type": "stream",
     "text": [
      "<class 'pandas.core.frame.DataFrame'>\n",
      "RangeIndex: 1372 entries, 0 to 1371\n",
      "Data columns (total 5 columns):\n",
      " #   Column    Non-Null Count  Dtype  \n",
      "---  ------    --------------  -----  \n",
      " 0   variance  1372 non-null   float64\n",
      " 1   skewness  1372 non-null   float64\n",
      " 2   curtosis  1372 non-null   float64\n",
      " 3   entropy   1372 non-null   float64\n",
      " 4   class     1372 non-null   int64  \n",
      "dtypes: float64(4), int64(1)\n",
      "memory usage: 53.7 KB\n"
     ]
    }
   ],
   "source": [
    "# Understanding of data types\n",
    "df.info()"
   ]
  },
  {
   "cell_type": "code",
   "execution_count": 4,
   "metadata": {
    "execution": {
     "iopub.execute_input": "2022-10-30T02:12:54.280698Z",
     "iopub.status.busy": "2022-10-30T02:12:54.280217Z",
     "iopub.status.idle": "2022-10-30T02:12:54.314538Z",
     "shell.execute_reply": "2022-10-30T02:12:54.313239Z",
     "shell.execute_reply.started": "2022-10-30T02:12:54.280663Z"
    }
   },
   "outputs": [
    {
     "data": {
      "text/html": [
       "<div>\n",
       "<style scoped>\n",
       "    .dataframe tbody tr th:only-of-type {\n",
       "        vertical-align: middle;\n",
       "    }\n",
       "\n",
       "    .dataframe tbody tr th {\n",
       "        vertical-align: top;\n",
       "    }\n",
       "\n",
       "    .dataframe thead th {\n",
       "        text-align: right;\n",
       "    }\n",
       "</style>\n",
       "<table border=\"1\" class=\"dataframe\">\n",
       "  <thead>\n",
       "    <tr style=\"text-align: right;\">\n",
       "      <th></th>\n",
       "      <th>variance</th>\n",
       "      <th>skewness</th>\n",
       "      <th>curtosis</th>\n",
       "      <th>entropy</th>\n",
       "      <th>class</th>\n",
       "    </tr>\n",
       "  </thead>\n",
       "  <tbody>\n",
       "    <tr>\n",
       "      <th>count</th>\n",
       "      <td>1372.000000</td>\n",
       "      <td>1372.000000</td>\n",
       "      <td>1372.000000</td>\n",
       "      <td>1372.000000</td>\n",
       "      <td>1372.000000</td>\n",
       "    </tr>\n",
       "    <tr>\n",
       "      <th>mean</th>\n",
       "      <td>0.433735</td>\n",
       "      <td>1.922353</td>\n",
       "      <td>1.397627</td>\n",
       "      <td>-1.191657</td>\n",
       "      <td>0.444606</td>\n",
       "    </tr>\n",
       "    <tr>\n",
       "      <th>std</th>\n",
       "      <td>2.842763</td>\n",
       "      <td>5.869047</td>\n",
       "      <td>4.310030</td>\n",
       "      <td>2.101013</td>\n",
       "      <td>0.497103</td>\n",
       "    </tr>\n",
       "    <tr>\n",
       "      <th>min</th>\n",
       "      <td>-7.042100</td>\n",
       "      <td>-13.773100</td>\n",
       "      <td>-5.286100</td>\n",
       "      <td>-8.548200</td>\n",
       "      <td>0.000000</td>\n",
       "    </tr>\n",
       "    <tr>\n",
       "      <th>25%</th>\n",
       "      <td>-1.773000</td>\n",
       "      <td>-1.708200</td>\n",
       "      <td>-1.574975</td>\n",
       "      <td>-2.413450</td>\n",
       "      <td>0.000000</td>\n",
       "    </tr>\n",
       "    <tr>\n",
       "      <th>50%</th>\n",
       "      <td>0.496180</td>\n",
       "      <td>2.319650</td>\n",
       "      <td>0.616630</td>\n",
       "      <td>-0.586650</td>\n",
       "      <td>0.000000</td>\n",
       "    </tr>\n",
       "    <tr>\n",
       "      <th>75%</th>\n",
       "      <td>2.821475</td>\n",
       "      <td>6.814625</td>\n",
       "      <td>3.179250</td>\n",
       "      <td>0.394810</td>\n",
       "      <td>1.000000</td>\n",
       "    </tr>\n",
       "    <tr>\n",
       "      <th>max</th>\n",
       "      <td>6.824800</td>\n",
       "      <td>12.951600</td>\n",
       "      <td>17.927400</td>\n",
       "      <td>2.449500</td>\n",
       "      <td>1.000000</td>\n",
       "    </tr>\n",
       "  </tbody>\n",
       "</table>\n",
       "</div>"
      ],
      "text/plain": [
       "          variance     skewness     curtosis      entropy        class\n",
       "count  1372.000000  1372.000000  1372.000000  1372.000000  1372.000000\n",
       "mean      0.433735     1.922353     1.397627    -1.191657     0.444606\n",
       "std       2.842763     5.869047     4.310030     2.101013     0.497103\n",
       "min      -7.042100   -13.773100    -5.286100    -8.548200     0.000000\n",
       "25%      -1.773000    -1.708200    -1.574975    -2.413450     0.000000\n",
       "50%       0.496180     2.319650     0.616630    -0.586650     0.000000\n",
       "75%       2.821475     6.814625     3.179250     0.394810     1.000000\n",
       "max       6.824800    12.951600    17.927400     2.449500     1.000000"
      ]
     },
     "execution_count": 4,
     "metadata": {},
     "output_type": "execute_result"
    }
   ],
   "source": [
    "df.describe()"
   ]
  },
  {
   "cell_type": "code",
   "execution_count": 5,
   "metadata": {
    "execution": {
     "iopub.execute_input": "2022-10-30T02:12:54.316783Z",
     "iopub.status.busy": "2022-10-30T02:12:54.316277Z",
     "iopub.status.idle": "2022-10-30T02:12:54.325698Z",
     "shell.execute_reply": "2022-10-30T02:12:54.324342Z",
     "shell.execute_reply.started": "2022-10-30T02:12:54.316726Z"
    }
   },
   "outputs": [
    {
     "data": {
      "text/plain": [
       "variance    0\n",
       "skewness    0\n",
       "curtosis    0\n",
       "entropy     0\n",
       "class       0\n",
       "dtype: int64"
      ]
     },
     "execution_count": 5,
     "metadata": {},
     "output_type": "execute_result"
    }
   ],
   "source": [
    "# To check for the missing values\n",
    "df.isna().sum()"
   ]
  },
  {
   "cell_type": "code",
   "execution_count": 6,
   "metadata": {
    "execution": {
     "iopub.execute_input": "2022-10-30T02:12:54.327692Z",
     "iopub.status.busy": "2022-10-30T02:12:54.327357Z",
     "iopub.status.idle": "2022-10-30T02:12:55.083678Z",
     "shell.execute_reply": "2022-10-30T02:12:55.082349Z",
     "shell.execute_reply.started": "2022-10-30T02:12:54.327663Z"
    }
   },
   "outputs": [
    {
     "data": {
      "image/png": "[encoded data removed]",
      "text/plain": [
       "<Figure size 2000x1000 with 6 Axes>"
      ]
     },
     "metadata": {},
     "output_type": "display_data"
    }
   ],
   "source": [
    "# Check for distribution of data\n",
    "ax = df.hist(figsize=(20,10))\n",
    "plt.show()"
   ]
  },
  {
   "cell_type": "code",
   "execution_count": 7,
   "metadata": {
    "execution": {
     "iopub.execute_input": "2022-10-30T02:12:55.086802Z",
     "iopub.status.busy": "2022-10-30T02:12:55.085264Z",
     "iopub.status.idle": "2022-10-30T02:12:55.385732Z",
     "shell.execute_reply": "2022-10-30T02:12:55.384460Z",
     "shell.execute_reply.started": "2022-10-30T02:12:55.086737Z"
    }
   },
   "outputs": [
    {
     "data": {
      "image/png": "[encoded data removed]",
      "text/plain": [
       "<Figure size 2000x1000 with 1 Axes>"
      ]
     },
     "metadata": {},
     "output_type": "display_data"
    }
   ],
   "source": [
    "# Check for outliers\n",
    "ax = df.boxplot(figsize=(20,10))\n",
    "ax.set_xlabel('Features')\n",
    "ax.set_ylabel('Values')\n",
    "ax.set_title('Outliers detection')\n",
    "plt.show()"
   ]
  },
  {
   "cell_type": "markdown",
   "metadata": {},
   "source": [
    "- variance and skewness can be normalized using StandardScaler however curtosis and entropy has outliers and skewness so can be treated with PowerTransformer"
   ]
  },
  {
   "cell_type": "code",
   "execution_count": 8,
   "metadata": {
    "execution": {
     "iopub.execute_input": "2022-10-30T02:12:55.387587Z",
     "iopub.status.busy": "2022-10-30T02:12:55.387238Z",
     "iopub.status.idle": "2022-10-30T02:12:55.579752Z",
     "shell.execute_reply": "2022-10-30T02:12:55.578508Z",
     "shell.execute_reply.started": "2022-10-30T02:12:55.387556Z"
    }
   },
   "outputs": [
    {
     "data": {
      "image/png": "[encoded data removed]",
      "text/plain": [
       "<Figure size 640x480 with 1 Axes>"
      ]
     },
     "metadata": {},
     "output_type": "display_data"
    }
   ],
   "source": [
    "# To check if data is balanced or imbalanced\n",
    "ax = df['class'].value_counts().plot(kind='bar')\n",
    "ax.set_xlabel('Is Original')\n",
    "ax.set_ylabel('Count')\n",
    "plt.show()"
   ]
  },
  {
   "cell_type": "code",
   "execution_count": 9,
   "metadata": {
    "execution": {
     "iopub.execute_input": "2022-10-30T02:12:55.584218Z",
     "iopub.status.busy": "2022-10-30T02:12:55.583859Z",
     "iopub.status.idle": "2022-10-30T02:12:55.952952Z",
     "shell.execute_reply": "2022-10-30T02:12:55.951650Z",
     "shell.execute_reply.started": "2022-10-30T02:12:55.584188Z"
    }
   },
   "outputs": [
    {
     "data": {
      "image/png": "[encoded data removed]",
      "text/plain": [
       "<Figure size 2000x1000 with 2 Axes>"
      ]
     },
     "metadata": {},
     "output_type": "display_data"
    }
   ],
   "source": [
    "# Bivariate analysis\n",
    "plt.figure(figsize=(20,10))\n",
    "sns.heatmap(df.corr(), annot=True)\n",
    "plt.show()"
   ]
  },
  {
   "cell_type": "code",
   "execution_count": 10,
   "metadata": {
    "execution": {
     "iopub.execute_input": "2022-10-30T02:12:55.955142Z",
     "iopub.status.busy": "2022-10-30T02:12:55.954634Z",
     "iopub.status.idle": "2022-10-30T02:12:55.960903Z",
     "shell.execute_reply": "2022-10-30T02:12:55.959630Z",
     "shell.execute_reply.started": "2022-10-30T02:12:55.955096Z"
    }
   },
   "outputs": [],
   "source": [
    "from sklearn.model_selection import train_test_split\n",
    "from sklearn.preprocessing import StandardScaler, PowerTransformer"
   ]
  },
  {
   "cell_type": "code",
   "execution_count": 11,
   "metadata": {
    "execution": {
     "iopub.execute_input": "2022-10-30T02:12:55.963060Z",
     "iopub.status.busy": "2022-10-30T02:12:55.962592Z",
     "iopub.status.idle": "2022-10-30T02:12:55.975028Z",
     "shell.execute_reply": "2022-10-30T02:12:55.973687Z",
     "shell.execute_reply.started": "2022-10-30T02:12:55.963018Z"
    }
   },
   "outputs": [],
   "source": [
    "X = df.drop('class', axis=1)\n",
    "y = df['class']"
   ]
  },
  {
   "cell_type": "code",
   "execution_count": 12,
   "metadata": {
    "execution": {
     "iopub.execute_input": "2022-10-30T02:12:55.977843Z",
     "iopub.status.busy": "2022-10-30T02:12:55.977420Z",
     "iopub.status.idle": "2022-10-30T02:12:55.989027Z",
     "shell.execute_reply": "2022-10-30T02:12:55.987571Z",
     "shell.execute_reply.started": "2022-10-30T02:12:55.977798Z"
    }
   },
   "outputs": [],
   "source": [
    "X_tr, X_val, y_tr, y_val = train_test_split(X, y, test_size=0.2, stratify=y, random_state=2)"
   ]
  },
  {
   "cell_type": "code",
   "execution_count": 13,
   "metadata": {
    "execution": {
     "iopub.execute_input": "2022-10-30T02:12:55.990987Z",
     "iopub.status.busy": "2022-10-30T02:12:55.990625Z",
     "iopub.status.idle": "2022-10-30T02:12:55.999944Z",
     "shell.execute_reply": "2022-10-30T02:12:55.998657Z",
     "shell.execute_reply.started": "2022-10-30T02:12:55.990957Z"
    }
   },
   "outputs": [],
   "source": [
    "to_std = ['variance','skewness']\n",
    "to_log = ['curtosis','entropy']"
   ]
  },
  {
   "cell_type": "code",
   "execution_count": 14,
   "metadata": {
    "execution": {
     "iopub.execute_input": "2022-10-30T02:12:56.002373Z",
     "iopub.status.busy": "2022-10-30T02:12:56.001911Z",
     "iopub.status.idle": "2022-10-30T02:12:56.021963Z",
     "shell.execute_reply": "2022-10-30T02:12:56.020355Z",
     "shell.execute_reply.started": "2022-10-30T02:12:56.002330Z"
    }
   },
   "outputs": [],
   "source": [
    "# To normalise the data with StandardScaler\n",
    "std = StandardScaler()\n",
    "std_X_tr = pd.DataFrame(std.fit_transform(X_tr[to_std]))\n",
    "std_X_val = pd.DataFrame(std.transform(X_val[to_std]))\n",
    "\n",
    "std_X_tr.index = X_tr.index\n",
    "std_X_val.index = X_val.index\n",
    "\n",
    "X_tr[to_std] = std_X_tr\n",
    "X_val[to_std] = std_X_val"
   ]
  },
  {
   "cell_type": "code",
   "execution_count": 15,
   "metadata": {
    "execution": {
     "iopub.execute_input": "2022-10-30T02:12:56.024163Z",
     "iopub.status.busy": "2022-10-30T02:12:56.023634Z",
     "iopub.status.idle": "2022-10-30T02:12:56.047367Z",
     "shell.execute_reply": "2022-10-30T02:12:56.046199Z",
     "shell.execute_reply.started": "2022-10-30T02:12:56.024070Z"
    }
   },
   "outputs": [],
   "source": [
    "# To normalise the data with PowerTrasformer\n",
    "log = PowerTransformer()\n",
    "log_X_tr = pd.DataFrame(log.fit_transform(X_tr[to_log]))\n",
    "log_X_val = pd.DataFrame(log.transform(X_val[to_log]))\n",
    "\n",
    "log_X_tr.index = X_tr.index\n",
    "log_X_val.index = X_val.index\n",
    "\n",
    "X_tr[to_log] = log_X_tr\n",
    "X_val[to_log] = log_X_val"
   ]
  },
  {
   "cell_type": "code",
   "execution_count": 16,
   "metadata": {
    "execution": {
     "iopub.execute_input": "2022-10-30T02:12:56.049663Z",
     "iopub.status.busy": "2022-10-30T02:12:56.049222Z",
     "iopub.status.idle": "2022-10-30T02:12:56.056855Z",
     "shell.execute_reply": "2022-10-30T02:12:56.055572Z",
     "shell.execute_reply.started": "2022-10-30T02:12:56.049622Z"
    }
   },
   "outputs": [],
   "source": [
    "estimators = {\n",
    "    'LogisticRegression': LogisticRegression(),\n",
    "    'RandomForestClassifier': RandomForestClassifier(),\n",
    "    'GradientBoostingClassifier': GradientBoostingClassifier(),\n",
    "    'KNeighborsClassifier': KNeighborsClassifier(n_neighbors=5),\n",
    "    'SVM': SVC(),\n",
    "    'XGB': xgb.XGBClassifier()\n",
    "}"
   ]
  },
  {
   "cell_type": "code",
   "execution_count": 17,
   "metadata": {
    "execution": {
     "iopub.execute_input": "2022-10-30T02:12:56.061243Z",
     "iopub.status.busy": "2022-10-30T02:12:56.058466Z",
     "iopub.status.idle": "2022-10-30T02:12:56.070266Z",
     "shell.execute_reply": "2022-10-30T02:12:56.069066Z",
     "shell.execute_reply.started": "2022-10-30T02:12:56.061202Z"
    }
   },
   "outputs": [],
   "source": [
    "def train_model(estimator, X_train, X_test, y_train, y_test):\n",
    "    estimator.fit(X_train, y_train)\n",
    "    y_pred = estimator.predict(X_test)\n",
    "    print(f'The accuracy score is: {metric.accuracy_score(y_test, y_pred):.4f}')\n",
    "    print(f'The report is: {metric.classification_report(y_test, y_pred)}')\n",
    "    print('#'*100)"
   ]
  },
  {
   "cell_type": "code",
   "execution_count": 18,
   "metadata": {
    "execution": {
     "iopub.execute_input": "2022-10-30T02:12:56.072694Z",
     "iopub.status.busy": "2022-10-30T02:12:56.071396Z",
     "iopub.status.idle": "2022-10-30T02:12:56.082790Z",
     "shell.execute_reply": "2022-10-30T02:12:56.081661Z",
     "shell.execute_reply.started": "2022-10-30T02:12:56.072659Z"
    }
   },
   "outputs": [],
   "source": [
    "def estimator_dict(X_train, X_test, y_train, y_test):\n",
    "    for name, estimator in estimators.items():\n",
    "        print(name)\n",
    "        train_model(estimator, X_train, X_test, y_train, y_test)"
   ]
  },
  {
   "cell_type": "code",
   "execution_count": 19,
   "metadata": {
    "execution": {
     "iopub.execute_input": "2022-10-30T02:12:56.084469Z",
     "iopub.status.busy": "2022-10-30T02:12:56.084131Z",
     "iopub.status.idle": "2022-10-30T02:12:56.862172Z",
     "shell.execute_reply": "2022-10-30T02:12:56.861254Z",
     "shell.execute_reply.started": "2022-10-30T02:12:56.084439Z"
    }
   },
   "outputs": [
    {
     "name": "stdout",
     "output_type": "stream",
     "text": [
      "LogisticRegression\n",
      "The accuracy score is: 0.9964\n",
      "The report is:               precision    recall  f1-score   support\n",
      "\n",
      "           0       1.00      0.99      1.00       153\n",
      "           1       0.99      1.00      1.00       122\n",
      "\n",
      "    accuracy                           1.00       275\n",
      "   macro avg       1.00      1.00      1.00       275\n",
      "weighted avg       1.00      1.00      1.00       275\n",
      "\n",
      "####################################################################################################\n",
      "RandomForestClassifier\n",
      "The accuracy score is: 0.9927\n",
      "The report is:               precision    recall  f1-score   support\n",
      "\n",
      "           0       1.00      0.99      0.99       153\n",
      "           1       0.98      1.00      0.99       122\n",
      "\n",
      "    accuracy                           0.99       275\n",
      "   macro avg       0.99      0.99      0.99       275\n",
      "weighted avg       0.99      0.99      0.99       275\n",
      "\n",
      "####################################################################################################\n",
      "GradientBoostingClassifier\n",
      "The accuracy score is: 0.9927\n",
      "The report is:               precision    recall  f1-score   support\n",
      "\n",
      "           0       1.00      0.99      0.99       153\n",
      "           1       0.98      1.00      0.99       122\n",
      "\n",
      "    accuracy                           0.99       275\n",
      "   macro avg       0.99      0.99      0.99       275\n",
      "weighted avg       0.99      0.99      0.99       275\n",
      "\n",
      "####################################################################################################\n",
      "KNeighborsClassifier\n",
      "The accuracy score is: 1.0000\n",
      "The report is:               precision    recall  f1-score   support\n",
      "\n",
      "           0       1.00      1.00      1.00       153\n",
      "           1       1.00      1.00      1.00       122\n",
      "\n",
      "    accuracy                           1.00       275\n",
      "   macro avg       1.00      1.00      1.00       275\n",
      "weighted avg       1.00      1.00      1.00       275\n",
      "\n",
      "####################################################################################################\n",
      "SVM\n",
      "The accuracy score is: 1.0000\n",
      "The report is:               precision    recall  f1-score   support\n",
      "\n",
      "           0       1.00      1.00      1.00       153\n",
      "           1       1.00      1.00      1.00       122\n",
      "\n",
      "    accuracy                           1.00       275\n",
      "   macro avg       1.00      1.00      1.00       275\n",
      "weighted avg       1.00      1.00      1.00       275\n",
      "\n",
      "####################################################################################################\n",
      "XGB\n",
      "The accuracy score is: 0.9964\n",
      "The report is:               precision    recall  f1-score   support\n",
      "\n",
      "           0       1.00      0.99      1.00       153\n",
      "           1       0.99      1.00      1.00       122\n",
      "\n",
      "    accuracy                           1.00       275\n",
      "   macro avg       1.00      1.00      1.00       275\n",
      "weighted avg       1.00      1.00      1.00       275\n",
      "\n",
      "####################################################################################################\n",
      "LogisticRegression\n",
      "The accuracy score is: 0.9964\n",
      "The report is:               precision    recall  f1-score   support\n",
      "\n",
      "           0       1.00      0.99      1.00       153\n",
      "           1       0.99      1.00      1.00       122\n",
      "\n",
      "    accuracy                           1.00       275\n",
      "   macro avg       1.00      1.00      1.00       275\n",
      "weighted avg       1.00      1.00      1.00       275\n",
      "\n",
      "####################################################################################################\n",
      "RandomForestClassifier\n",
      "The accuracy score is: 0.9927\n",
      "The report is:               precision    recall  f1-score   support\n",
      "\n",
      "           0       1.00      0.99      0.99       153\n",
      "           1       0.98      1.00      0.99       122\n",
      "\n",
      "    accuracy                           0.99       275\n",
      "   macro avg       0.99      0.99      0.99       275\n",
      "weighted avg       0.99      0.99      0.99       275\n",
      "\n",
      "####################################################################################################\n",
      "GradientBoostingClassifier\n",
      "The accuracy score is: 0.9927\n",
      "The report is:               precision    recall  f1-score   support\n",
      "\n",
      "           0       1.00      0.99      0.99       153\n",
      "           1       0.98      1.00      0.99       122\n",
      "\n",
      "    accuracy                           0.99       275\n",
      "   macro avg       0.99      0.99      0.99       275\n",
      "weighted avg       0.99      0.99      0.99       275\n",
      "\n",
      "####################################################################################################\n",
      "KNeighborsClassifier\n",
      "The accuracy score is: 1.0000\n",
      "The report is:               precision    recall  f1-score   support\n",
      "\n",
      "           0       1.00      1.00      1.00       153\n",
      "           1       1.00      1.00      1.00       122\n",
      "\n",
      "    accuracy                           1.00       275\n",
      "   macro avg       1.00      1.00      1.00       275\n",
      "weighted avg       1.00      1.00      1.00       275\n",
      "\n",
      "####################################################################################################\n",
      "SVM\n",
      "The accuracy score is: 1.0000\n",
      "The report is:               precision    recall  f1-score   support\n",
      "\n",
      "           0       1.00      1.00      1.00       153\n",
      "           1       1.00      1.00      1.00       122\n",
      "\n",
      "    accuracy                           1.00       275\n",
      "   macro avg       1.00      1.00      1.00       275\n",
      "weighted avg       1.00      1.00      1.00       275\n",
      "\n",
      "####################################################################################################\n",
      "XGB\n",
      "The accuracy score is: 0.9964\n",
      "The report is:               precision    recall  f1-score   support\n",
      "\n",
      "           0       1.00      0.99      1.00       153\n",
      "           1       0.99      1.00      1.00       122\n",
      "\n",
      "    accuracy                           1.00       275\n",
      "   macro avg       1.00      1.00      1.00       275\n",
      "weighted avg       1.00      1.00      1.00       275\n",
      "\n",
      "####################################################################################################\n",
      "LogisticRegression\n",
      "The accuracy score is: 0.9964\n",
      "The report is:               precision    recall  f1-score   support\n",
      "\n",
      "           0       1.00      0.99      1.00       153\n",
      "           1       0.99      1.00      1.00       122\n",
      "\n",
      "    accuracy                           1.00       275\n",
      "   macro avg       1.00      1.00      1.00       275\n",
      "weighted avg       1.00      1.00      1.00       275\n",
      "\n",
      "####################################################################################################\n",
      "RandomForestClassifier\n",
      "The accuracy score is: 0.9927\n",
      "The report is:               precision    recall  f1-score   support\n",
      "\n",
      "           0       1.00      0.99      0.99       153\n",
      "           1       0.98      1.00      0.99       122\n",
      "\n",
      "    accuracy                           0.99       275\n",
      "   macro avg       0.99      0.99      0.99       275\n",
      "weighted avg       0.99      0.99      0.99       275\n",
      "\n",
      "####################################################################################################\n",
      "GradientBoostingClassifier\n",
      "The accuracy score is: 0.9927\n",
      "The report is:               precision    recall  f1-score   support\n",
      "\n",
      "           0       1.00      0.99      0.99       153\n",
      "           1       0.98      1.00      0.99       122\n",
      "\n",
      "    accuracy                           0.99       275\n",
      "   macro avg       0.99      0.99      0.99       275\n",
      "weighted avg       0.99      0.99      0.99       275\n",
      "\n",
      "####################################################################################################\n",
      "KNeighborsClassifier\n",
      "The accuracy score is: 1.0000\n",
      "The report is:               precision    recall  f1-score   support\n",
      "\n",
      "           0       1.00      1.00      1.00       153\n",
      "           1       1.00      1.00      1.00       122\n",
      "\n",
      "    accuracy                           1.00       275\n",
      "   macro avg       1.00      1.00      1.00       275\n",
      "weighted avg       1.00      1.00      1.00       275\n",
      "\n",
      "####################################################################################################\n",
      "SVM\n",
      "The accuracy score is: 1.0000\n",
      "The report is:               precision    recall  f1-score   support\n",
      "\n",
      "           0       1.00      1.00      1.00       153\n",
      "           1       1.00      1.00      1.00       122\n",
      "\n",
      "    accuracy                           1.00       275\n",
      "   macro avg       1.00      1.00      1.00       275\n",
      "weighted avg       1.00      1.00      1.00       275\n",
      "\n",
      "####################################################################################################\n",
      "XGB\n",
      "The accuracy score is: 0.9964\n",
      "The report is:               precision    recall  f1-score   support\n",
      "\n",
      "           0       1.00      0.99      1.00       153\n",
      "           1       0.99      1.00      1.00       122\n",
      "\n",
      "    accuracy                           1.00       275\n",
      "   macro avg       1.00      1.00      1.00       275\n",
      "weighted avg       1.00      1.00      1.00       275\n",
      "\n",
      "####################################################################################################\n",
      "LogisticRegression\n",
      "The accuracy score is: 0.9964\n"
     ]
    },
    {
     "name": "stdout",
     "output_type": "stream",
     "text": [
      "The report is:               precision    recall  f1-score   support\n",
      "\n",
      "           0       1.00      0.99      1.00       153\n",
      "           1       0.99      1.00      1.00       122\n",
      "\n",
      "    accuracy                           1.00       275\n",
      "   macro avg       1.00      1.00      1.00       275\n",
      "weighted avg       1.00      1.00      1.00       275\n",
      "\n",
      "####################################################################################################\n",
      "RandomForestClassifier\n",
      "The accuracy score is: 0.9927\n",
      "The report is:               precision    recall  f1-score   support\n",
      "\n",
      "           0       1.00      0.99      0.99       153\n",
      "           1       0.98      1.00      0.99       122\n",
      "\n",
      "    accuracy                           0.99       275\n",
      "   macro avg       0.99      0.99      0.99       275\n",
      "weighted avg       0.99      0.99      0.99       275\n",
      "\n",
      "####################################################################################################\n",
      "GradientBoostingClassifier\n",
      "The accuracy score is: 0.9927\n",
      "The report is:               precision    recall  f1-score   support\n",
      "\n",
      "           0       1.00      0.99      0.99       153\n",
      "           1       0.98      1.00      0.99       122\n",
      "\n",
      "    accuracy                           0.99       275\n",
      "   macro avg       0.99      0.99      0.99       275\n",
      "weighted avg       0.99      0.99      0.99       275\n",
      "\n",
      "####################################################################################################\n",
      "KNeighborsClassifier\n",
      "The accuracy score is: 1.0000\n",
      "The report is:               precision    recall  f1-score   support\n",
      "\n",
      "           0       1.00      1.00      1.00       153\n",
      "           1       1.00      1.00      1.00       122\n",
      "\n",
      "    accuracy                           1.00       275\n",
      "   macro avg       1.00      1.00      1.00       275\n",
      "weighted avg       1.00      1.00      1.00       275\n",
      "\n",
      "####################################################################################################\n",
      "SVM\n",
      "The accuracy score is: 1.0000\n",
      "The report is:               precision    recall  f1-score   support\n",
      "\n",
      "           0       1.00      1.00      1.00       153\n",
      "           1       1.00      1.00      1.00       122\n",
      "\n",
      "    accuracy                           1.00       275\n",
      "   macro avg       1.00      1.00      1.00       275\n",
      "weighted avg       1.00      1.00      1.00       275\n",
      "\n",
      "####################################################################################################\n",
      "XGB\n",
      "The accuracy score is: 0.9964\n",
      "The report is:               precision    recall  f1-score   support\n",
      "\n",
      "           0       1.00      0.99      1.00       153\n",
      "           1       0.99      1.00      1.00       122\n",
      "\n",
      "    accuracy                           1.00       275\n",
      "   macro avg       1.00      1.00      1.00       275\n",
      "weighted avg       1.00      1.00      1.00       275\n",
      "\n",
      "####################################################################################################\n",
      "LogisticRegression\n",
      "The accuracy score is: 0.9964\n",
      "The report is:               precision    recall  f1-score   support\n",
      "\n",
      "           0       1.00      0.99      1.00       153\n",
      "           1       0.99      1.00      1.00       122\n",
      "\n",
      "    accuracy                           1.00       275\n",
      "   macro avg       1.00      1.00      1.00       275\n",
      "weighted avg       1.00      1.00      1.00       275\n",
      "\n",
      "####################################################################################################\n",
      "RandomForestClassifier\n",
      "The accuracy score is: 0.9927\n",
      "The report is:               precision    recall  f1-score   support\n",
      "\n",
      "           0       1.00      0.99      0.99       153\n",
      "           1       0.98      1.00      0.99       122\n",
      "\n",
      "    accuracy                           0.99       275\n",
      "   macro avg       0.99      0.99      0.99       275\n",
      "weighted avg       0.99      0.99      0.99       275\n",
      "\n",
      "####################################################################################################\n",
      "GradientBoostingClassifier\n",
      "The accuracy score is: 0.9927\n",
      "The report is:               precision    recall  f1-score   support\n",
      "\n",
      "           0       1.00      0.99      0.99       153\n",
      "           1       0.98      1.00      0.99       122\n",
      "\n",
      "    accuracy                           0.99       275\n",
      "   macro avg       0.99      0.99      0.99       275\n",
      "weighted avg       0.99      0.99      0.99       275\n",
      "\n",
      "####################################################################################################\n",
      "KNeighborsClassifier\n",
      "The accuracy score is: 1.0000\n",
      "The report is:               precision    recall  f1-score   support\n",
      "\n",
      "           0       1.00      1.00      1.00       153\n",
      "           1       1.00      1.00      1.00       122\n",
      "\n",
      "    accuracy                           1.00       275\n",
      "   macro avg       1.00      1.00      1.00       275\n",
      "weighted avg       1.00      1.00      1.00       275\n",
      "\n",
      "####################################################################################################\n",
      "SVM\n",
      "The accuracy score is: 1.0000\n",
      "The report is:               precision    recall  f1-score   support\n",
      "\n",
      "           0       1.00      1.00      1.00       153\n",
      "           1       1.00      1.00      1.00       122\n",
      "\n",
      "    accuracy                           1.00       275\n",
      "   macro avg       1.00      1.00      1.00       275\n",
      "weighted avg       1.00      1.00      1.00       275\n",
      "\n",
      "####################################################################################################\n",
      "XGB\n",
      "The accuracy score is: 0.9964\n",
      "The report is:               precision    recall  f1-score   support\n",
      "\n",
      "           0       1.00      0.99      1.00       153\n",
      "           1       0.99      1.00      1.00       122\n",
      "\n",
      "    accuracy                           1.00       275\n",
      "   macro avg       1.00      1.00      1.00       275\n",
      "weighted avg       1.00      1.00      1.00       275\n",
      "\n",
      "####################################################################################################\n",
      "LogisticRegression\n",
      "The accuracy score is: 0.9964\n",
      "The report is:               precision    recall  f1-score   support\n",
      "\n",
      "           0       1.00      0.99      1.00       153\n",
      "           1       0.99      1.00      1.00       122\n",
      "\n",
      "    accuracy                           1.00       275\n",
      "   macro avg       1.00      1.00      1.00       275\n",
      "weighted avg       1.00      1.00      1.00       275\n",
      "\n",
      "####################################################################################################\n",
      "RandomForestClassifier\n",
      "The accuracy score is: 0.9927\n",
      "The report is:               precision    recall  f1-score   support\n",
      "\n",
      "           0       1.00      0.99      0.99       153\n",
      "           1       0.98      1.00      0.99       122\n",
      "\n",
      "    accuracy                           0.99       275\n",
      "   macro avg       0.99      0.99      0.99       275\n",
      "weighted avg       0.99      0.99      0.99       275\n",
      "\n",
      "####################################################################################################\n",
      "GradientBoostingClassifier\n",
      "The accuracy score is: 0.9927\n",
      "The report is:               precision    recall  f1-score   support\n",
      "\n",
      "           0       1.00      0.99      0.99       153\n",
      "           1       0.98      1.00      0.99       122\n",
      "\n",
      "    accuracy                           0.99       275\n",
      "   macro avg       0.99      0.99      0.99       275\n",
      "weighted avg       0.99      0.99      0.99       275\n",
      "\n",
      "####################################################################################################\n",
      "KNeighborsClassifier\n",
      "The accuracy score is: 1.0000\n",
      "The report is:               precision    recall  f1-score   support\n",
      "\n",
      "           0       1.00      1.00      1.00       153\n",
      "           1       1.00      1.00      1.00       122\n",
      "\n",
      "    accuracy                           1.00       275\n",
      "   macro avg       1.00      1.00      1.00       275\n",
      "weighted avg       1.00      1.00      1.00       275\n",
      "\n",
      "####################################################################################################\n",
      "SVM\n",
      "The accuracy score is: 1.0000\n",
      "The report is:               precision    recall  f1-score   support\n",
      "\n",
      "           0       1.00      1.00      1.00       153\n",
      "           1       1.00      1.00      1.00       122\n",
      "\n",
      "    accuracy                           1.00       275\n",
      "   macro avg       1.00      1.00      1.00       275\n",
      "weighted avg       1.00      1.00      1.00       275\n",
      "\n",
      "####################################################################################################\n",
      "XGB\n",
      "The accuracy score is: 0.9964\n",
      "The report is:               precision    recall  f1-score   support\n",
      "\n",
      "           0       1.00      0.99      1.00       153\n",
      "           1       0.99      1.00      1.00       122\n",
      "\n",
      "    accuracy                           1.00       275\n",
      "   macro avg       1.00      1.00      1.00       275\n",
      "weighted avg       1.00      1.00      1.00       275\n",
      "\n",
      "####################################################################################################\n",
      "LogisticRegression\n",
      "The accuracy score is: 0.9964\n"
     ]
    },
    {
     "name": "stdout",
     "output_type": "stream",
     "text": [
      "The report is:               precision    recall  f1-score   support\n",
      "\n",
      "           0       1.00      0.99      1.00       153\n",
      "           1       0.99      1.00      1.00       122\n",
      "\n",
      "    accuracy                           1.00       275\n",
      "   macro avg       1.00      1.00      1.00       275\n",
      "weighted avg       1.00      1.00      1.00       275\n",
      "\n",
      "####################################################################################################\n",
      "RandomForestClassifier\n",
      "The accuracy score is: 0.9927\n",
      "The report is:               precision    recall  f1-score   support\n",
      "\n",
      "           0       1.00      0.99      0.99       153\n",
      "           1       0.98      1.00      0.99       122\n",
      "\n",
      "    accuracy                           0.99       275\n",
      "   macro avg       0.99      0.99      0.99       275\n",
      "weighted avg       0.99      0.99      0.99       275\n",
      "\n",
      "####################################################################################################\n",
      "GradientBoostingClassifier\n",
      "The accuracy score is: 0.9927\n",
      "The report is:               precision    recall  f1-score   support\n",
      "\n",
      "           0       1.00      0.99      0.99       153\n",
      "           1       0.98      1.00      0.99       122\n",
      "\n",
      "    accuracy                           0.99       275\n",
      "   macro avg       0.99      0.99      0.99       275\n",
      "weighted avg       0.99      0.99      0.99       275\n",
      "\n",
      "####################################################################################################\n",
      "KNeighborsClassifier\n",
      "The accuracy score is: 1.0000\n",
      "The report is:               precision    recall  f1-score   support\n",
      "\n",
      "           0       1.00      1.00      1.00       153\n",
      "           1       1.00      1.00      1.00       122\n",
      "\n",
      "    accuracy                           1.00       275\n",
      "   macro avg       1.00      1.00      1.00       275\n",
      "weighted avg       1.00      1.00      1.00       275\n",
      "\n",
      "####################################################################################################\n",
      "SVM\n",
      "The accuracy score is: 1.0000\n",
      "The report is:               precision    recall  f1-score   support\n",
      "\n",
      "           0       1.00      1.00      1.00       153\n",
      "           1       1.00      1.00      1.00       122\n",
      "\n",
      "    accuracy                           1.00       275\n",
      "   macro avg       1.00      1.00      1.00       275\n",
      "weighted avg       1.00      1.00      1.00       275\n",
      "\n",
      "####################################################################################################\n",
      "XGB\n",
      "The accuracy score is: 0.9964\n",
      "The report is:               precision    recall  f1-score   support\n",
      "\n",
      "           0       1.00      0.99      1.00       153\n",
      "           1       0.99      1.00      1.00       122\n",
      "\n",
      "    accuracy                           1.00       275\n",
      "   macro avg       1.00      1.00      1.00       275\n",
      "weighted avg       1.00      1.00      1.00       275\n",
      "\n",
      "####################################################################################################\n",
      "LogisticRegression\n",
      "The accuracy score is: 0.9964\n",
      "The report is:               precision    recall  f1-score   support\n",
      "\n",
      "           0       1.00      0.99      1.00       153\n",
      "           1       0.99      1.00      1.00       122\n",
      "\n",
      "    accuracy                           1.00       275\n",
      "   macro avg       1.00      1.00      1.00       275\n",
      "weighted avg       1.00      1.00      1.00       275\n",
      "\n",
      "####################################################################################################\n",
      "RandomForestClassifier\n",
      "The accuracy score is: 0.9927\n",
      "The report is:               precision    recall  f1-score   support\n",
      "\n",
      "           0       1.00      0.99      0.99       153\n",
      "           1       0.98      1.00      0.99       122\n",
      "\n",
      "    accuracy                           0.99       275\n",
      "   macro avg       0.99      0.99      0.99       275\n",
      "weighted avg       0.99      0.99      0.99       275\n",
      "\n",
      "####################################################################################################\n",
      "GradientBoostingClassifier\n",
      "The accuracy score is: 0.9927\n",
      "The report is:               precision    recall  f1-score   support\n",
      "\n",
      "           0       1.00      0.99      0.99       153\n",
      "           1       0.98      1.00      0.99       122\n",
      "\n",
      "    accuracy                           0.99       275\n",
      "   macro avg       0.99      0.99      0.99       275\n",
      "weighted avg       0.99      0.99      0.99       275\n",
      "\n",
      "####################################################################################################\n",
      "KNeighborsClassifier\n",
      "The accuracy score is: 1.0000\n",
      "The report is:               precision    recall  f1-score   support\n",
      "\n",
      "           0       1.00      1.00      1.00       153\n",
      "           1       1.00      1.00      1.00       122\n",
      "\n",
      "    accuracy                           1.00       275\n",
      "   macro avg       1.00      1.00      1.00       275\n",
      "weighted avg       1.00      1.00      1.00       275\n",
      "\n",
      "####################################################################################################\n",
      "SVM\n",
      "The accuracy score is: 1.0000\n",
      "The report is:               precision    recall  f1-score   support\n",
      "\n",
      "           0       1.00      1.00      1.00       153\n",
      "           1       1.00      1.00      1.00       122\n",
      "\n",
      "    accuracy                           1.00       275\n",
      "   macro avg       1.00      1.00      1.00       275\n",
      "weighted avg       1.00      1.00      1.00       275\n",
      "\n",
      "####################################################################################################\n",
      "XGB\n",
      "The accuracy score is: 0.9964\n",
      "The report is:               precision    recall  f1-score   support\n",
      "\n",
      "           0       1.00      0.99      1.00       153\n",
      "           1       0.99      1.00      1.00       122\n",
      "\n",
      "    accuracy                           1.00       275\n",
      "   macro avg       1.00      1.00      1.00       275\n",
      "weighted avg       1.00      1.00      1.00       275\n",
      "\n",
      "####################################################################################################\n",
      "917 ms ± 37 ms per loop (mean ± std. dev. of 7 runs, 1 loop each)\n"
     ]
    }
   ],
   "source": [
    "%%timeit\n",
    "estimator_dict(X_tr, X_val, y_tr, y_val)"
   ]
  },
  {
   "cell_type": "markdown",
   "metadata": {},
   "source": [
    "- All estimators are giving almost same result."
   ]
  },
  {
   "cell_type": "code",
   "execution_count": 20,
   "metadata": {
    "execution": {
     "iopub.execute_input": "2022-10-30T02:12:56.868544Z",
     "iopub.status.busy": "2022-10-30T02:12:56.866696Z",
     "iopub.status.idle": "2022-10-30T02:12:56.873398Z",
     "shell.execute_reply": "2022-10-30T02:12:56.872218Z",
     "shell.execute_reply.started": "2022-10-30T02:12:56.868501Z"
    }
   },
   "outputs": [],
   "source": [
    "X_cross = X.copy()\n",
    "y_cross = y.copy()"
   ]
  },
  {
   "cell_type": "code",
   "execution_count": 21,
   "metadata": {
    "execution": {
     "iopub.execute_input": "2022-10-30T02:12:56.875147Z",
     "iopub.status.busy": "2022-10-30T02:12:56.874619Z",
     "iopub.status.idle": "2022-10-30T02:12:56.897933Z",
     "shell.execute_reply": "2022-10-30T02:12:56.896072Z",
     "shell.execute_reply.started": "2022-10-30T02:12:56.875112Z"
    }
   },
   "outputs": [],
   "source": [
    "std_cross = StandardScaler()\n",
    "X_cross_std = pd.DataFrame(std_cross.fit_transform(X_cross[to_std]))\n",
    "\n",
    "X_cross_std.index = X_cross.index\n",
    "X_cross[to_std] = X_cross_std"
   ]
  },
  {
   "cell_type": "code",
   "execution_count": 22,
   "metadata": {
    "execution": {
     "iopub.execute_input": "2022-10-30T02:12:56.899747Z",
     "iopub.status.busy": "2022-10-30T02:12:56.899325Z",
     "iopub.status.idle": "2022-10-30T02:12:56.922887Z",
     "shell.execute_reply": "2022-10-30T02:12:56.921325Z",
     "shell.execute_reply.started": "2022-10-30T02:12:56.899711Z"
    }
   },
   "outputs": [],
   "source": [
    "log_cross = PowerTransformer()\n",
    "X_cross_log = pd.DataFrame(log_cross.fit_transform(X_cross[to_log]))\n",
    "\n",
    "X_cross_log.index = X_cross.index\n",
    "X_cross[to_log] = X_cross_log"
   ]
  },
  {
   "cell_type": "code",
   "execution_count": 23,
   "metadata": {
    "execution": {
     "iopub.execute_input": "2022-10-30T02:12:56.925015Z",
     "iopub.status.busy": "2022-10-30T02:12:56.924499Z",
     "iopub.status.idle": "2022-10-30T02:12:58.276430Z",
     "shell.execute_reply": "2022-10-30T02:12:58.275395Z",
     "shell.execute_reply.started": "2022-10-30T02:12:56.924970Z"
    }
   },
   "outputs": [
    {
     "name": "stdout",
     "output_type": "stream",
     "text": [
      "The Accuracy is [1.0, 0.9963636363636363, 1.0, 0.9963503649635036, 0.9963503649635036]\n",
      "The ROC is [1.0, 1.0, 1.0, 1.0, 1.0]\n",
      "Mean Accuracy is 0.9978\n",
      "Mean ROC is: 1.0000\n"
     ]
    }
   ],
   "source": [
    "# Training model with cross validation\n",
    "lr = LogisticRegression()\n",
    "skf = StratifiedKFold(n_splits=5, shuffle=True, random_state=102)\n",
    "\n",
    "acc = []\n",
    "roc = []\n",
    "for train_idx, val_idx in skf.split(X_cross, y_cross):\n",
    "    X_train_fold, X_val_fold = X_cross.loc[train_idx], X_cross.loc[val_idx]\n",
    "    y_train_fold, y_val_fold = y_cross.loc[train_idx], y_cross.loc[val_idx] \n",
    "    lr.fit(X_train_fold, y_train_fold)\n",
    "    y_pred = lr.predict(X_val_fold)\n",
    "    y_prob = lr.predict_proba(X_val_fold)\n",
    "    acc_score = metric.accuracy_score(y_val_fold, y_pred)\n",
    "    roc_score = metric.roc_auc_score(y_val_fold, y_prob[:,1])\n",
    "    acc.append(acc_score)\n",
    "    roc.append(roc_score)\n",
    "print(f'The Accuracy is {acc}')\n",
    "print(f'The ROC is {roc}')\n",
    "print(f'Mean Accuracy is {np.mean(acc):.4f}')\n",
    "print(f'Mean ROC is: {np.mean(roc):.4f}')"
   ]
  },
  {
   "cell_type": "code",
   "execution_count": 24,
   "metadata": {},
   "outputs": [],
   "source": [
    "X_tr.iloc[0]\n",
    "\n",
    "to_std = ['variance','skewness']\n",
    "to_log = ['curtosis','entropy']"
   ]
  },
  {
   "cell_type": "code",
   "execution_count": 25,
   "metadata": {},
   "outputs": [
    {
     "data": {
      "text/plain": [
       "variance    3.62160\n",
       "skewness    8.66610\n",
       "curtosis   -2.80730\n",
       "entropy    -0.44699\n",
       "class       0.00000\n",
       "Name: 0, dtype: float64"
      ]
     },
     "execution_count": 25,
     "metadata": {},
     "output_type": "execute_result"
    }
   ],
   "source": [
    "df.iloc[0]"
   ]
  },
  {
   "cell_type": "code",
   "execution_count": 26,
   "metadata": {},
   "outputs": [
    {
     "data": {
      "text/plain": [
       "array([3.6216, 8.6661])"
      ]
     },
     "execution_count": 26,
     "metadata": {},
     "output_type": "execute_result"
    }
   ],
   "source": [
    "np.array(df.iloc[0,0:2])"
   ]
  },
  {
   "cell_type": "code",
   "execution_count": 27,
   "metadata": {},
   "outputs": [
    {
     "data": {
      "text/plain": [
       "(array([[1.12458315, 1.15816317]]), array([[-1.12254729,  0.12905224]]))"
      ]
     },
     "execution_count": 27,
     "metadata": {},
     "output_type": "execute_result"
    }
   ],
   "source": [
    "from_std = std.transform(np.array(df.iloc[0,0:2]).reshape(1,-1))\n",
    "from_log = log.transform(np.array(df.iloc[0,2:4]).reshape(1,-1))\n",
    "from_std, from_log"
   ]
  },
  {
   "cell_type": "code",
   "execution_count": 28,
   "metadata": {},
   "outputs": [
    {
     "data": {
      "text/plain": [
       "0"
      ]
     },
     "execution_count": 28,
     "metadata": {},
     "output_type": "execute_result"
    }
   ],
   "source": [
    "final = np.concatenate((from_std, from_log), axis=1)\n",
    "pre = lr.predict(final)\n",
    "pre[0]"
   ]
  },
  {
   "cell_type": "markdown",
   "metadata": {},
   "source": [
    "## Pickling the model file for deployment"
   ]
  },
  {
   "cell_type": "code",
   "execution_count": 29,
   "metadata": {},
   "outputs": [],
   "source": [
    "import pickle as pkl\n",
    "pkl.dump(lr, open('lr.pkl', 'wb'))"
   ]
  },
  {
   "cell_type": "code",
   "execution_count": 30,
   "metadata": {},
   "outputs": [],
   "source": [
    "pkl.dump(std, open('std.pkl', 'wb'))\n",
    "pkl.dump(log, open('log.pkl', 'wb'))"
   ]
  },
  {
   "cell_type": "code",
   "execution_count": 31,
   "metadata": {},
   "outputs": [],
   "source": [
    "pkl_model = pkl.load(open('lr.pkl', 'rb'))\n",
    "pkl_std = pkl.load(open('std.pkl', 'rb'))\n",
    "pkl_log = pkl.load(open('log.pkl', 'rb'))"
   ]
  },
  {
   "cell_type": "code",
   "execution_count": 32,
   "metadata": {},
   "outputs": [
    {
     "data": {
      "text/plain": [
       "0"
      ]
     },
     "execution_count": 32,
     "metadata": {},
     "output_type": "execute_result"
    }
   ],
   "source": [
    "std_res = pkl_std.transform(np.array(df.iloc[0,0:2]).reshape(1,-1))\n",
    "log_res = pkl_log.transform(np.array(df.iloc[0,2:4]).reshape(1,-1))\n",
    "fin = np.concatenate((std_res, log_res), axis=1)\n",
    "output = pkl_model.predict(fin)\n",
    "output[0]"
   ]
  }
 ],
 "metadata": {
  "kernelspec": {
   "display_name": "Python 3 (ipykernel)",
   "language": "python",
   "name": "python3"
  },
  "language_info": {
   "codemirror_mode": {
    "name": "ipython",
    "version": 3
   },
   "file_extension": ".py",
   "mimetype": "text/x-python",
   "name": "python",
   "nbconvert_exporter": "python",
   "pygments_lexer": "ipython3",
   "version": "3.9.13"
  },
  "vscode": {
   "interpreter": {
    "hash": "ceae15110efcc7029abae926ce851ae533378f10496238ed1b5791d8ac0b2b61"
   }
  }
 },
 "nbformat": 4,
 "nbformat_minor": 4
}
